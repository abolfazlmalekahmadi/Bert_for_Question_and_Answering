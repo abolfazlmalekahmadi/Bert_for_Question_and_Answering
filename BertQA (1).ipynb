{
  "nbformat": 4,
  "nbformat_minor": 0,
  "metadata": {
    "colab": {
      "provenance": [],
      "gpuType": "T4"
    },
    "kernelspec": {
      "name": "python3",
      "display_name": "Python 3"
    },
    "language_info": {
      "name": "python"
    },
    "accelerator": "GPU"
  },
  "cells": [
    {
      "cell_type": "code",
      "execution_count": null,
      "metadata": {
        "colab": {
          "base_uri": "https://localhost:8080/"
        },
        "id": "3iaHq8xYISa8",
        "outputId": "e1eda135-9e1e-40e4-db8f-f556496bd0b5"
      },
      "outputs": [
        {
          "output_type": "stream",
          "name": "stdout",
          "text": [
            "Requirement already satisfied: transformers==4.28.0 in /usr/local/lib/python3.10/dist-packages (4.28.0)\n",
            "Requirement already satisfied: datasets in /usr/local/lib/python3.10/dist-packages (2.14.0)\n",
            "Requirement already satisfied: evaluate in /usr/local/lib/python3.10/dist-packages (0.4.0)\n",
            "Requirement already satisfied: filelock in /usr/local/lib/python3.10/dist-packages (from transformers==4.28.0) (3.12.2)\n",
            "Requirement already satisfied: huggingface-hub<1.0,>=0.11.0 in /usr/local/lib/python3.10/dist-packages (from transformers==4.28.0) (0.16.4)\n",
            "Requirement already satisfied: numpy>=1.17 in /usr/local/lib/python3.10/dist-packages (from transformers==4.28.0) (1.22.4)\n",
            "Requirement already satisfied: packaging>=20.0 in /usr/local/lib/python3.10/dist-packages (from transformers==4.28.0) (23.1)\n",
            "Requirement already satisfied: pyyaml>=5.1 in /usr/local/lib/python3.10/dist-packages (from transformers==4.28.0) (6.0.1)\n",
            "Requirement already satisfied: regex!=2019.12.17 in /usr/local/lib/python3.10/dist-packages (from transformers==4.28.0) (2022.10.31)\n",
            "Requirement already satisfied: requests in /usr/local/lib/python3.10/dist-packages (from transformers==4.28.0) (2.27.1)\n",
            "Requirement already satisfied: tokenizers!=0.11.3,<0.14,>=0.11.1 in /usr/local/lib/python3.10/dist-packages (from transformers==4.28.0) (0.13.3)\n",
            "Requirement already satisfied: tqdm>=4.27 in /usr/local/lib/python3.10/dist-packages (from transformers==4.28.0) (4.65.0)\n",
            "Requirement already satisfied: pyarrow>=8.0.0 in /usr/local/lib/python3.10/dist-packages (from datasets) (9.0.0)\n",
            "Requirement already satisfied: dill<0.3.8,>=0.3.0 in /usr/local/lib/python3.10/dist-packages (from datasets) (0.3.7)\n",
            "Requirement already satisfied: pandas in /usr/local/lib/python3.10/dist-packages (from datasets) (1.5.3)\n",
            "Requirement already satisfied: xxhash in /usr/local/lib/python3.10/dist-packages (from datasets) (3.2.0)\n",
            "Requirement already satisfied: multiprocess in /usr/local/lib/python3.10/dist-packages (from datasets) (0.70.15)\n",
            "Requirement already satisfied: fsspec[http]>=2021.11.1 in /usr/local/lib/python3.10/dist-packages (from datasets) (2023.6.0)\n",
            "Requirement already satisfied: aiohttp in /usr/local/lib/python3.10/dist-packages (from datasets) (3.8.4)\n",
            "Requirement already satisfied: responses<0.19 in /usr/local/lib/python3.10/dist-packages (from evaluate) (0.18.0)\n",
            "Requirement already satisfied: attrs>=17.3.0 in /usr/local/lib/python3.10/dist-packages (from aiohttp->datasets) (23.1.0)\n",
            "Requirement already satisfied: charset-normalizer<4.0,>=2.0 in /usr/local/lib/python3.10/dist-packages (from aiohttp->datasets) (2.0.12)\n",
            "Requirement already satisfied: multidict<7.0,>=4.5 in /usr/local/lib/python3.10/dist-packages (from aiohttp->datasets) (6.0.4)\n",
            "Requirement already satisfied: async-timeout<5.0,>=4.0.0a3 in /usr/local/lib/python3.10/dist-packages (from aiohttp->datasets) (4.0.2)\n",
            "Requirement already satisfied: yarl<2.0,>=1.0 in /usr/local/lib/python3.10/dist-packages (from aiohttp->datasets) (1.9.2)\n",
            "Requirement already satisfied: frozenlist>=1.1.1 in /usr/local/lib/python3.10/dist-packages (from aiohttp->datasets) (1.4.0)\n",
            "Requirement already satisfied: aiosignal>=1.1.2 in /usr/local/lib/python3.10/dist-packages (from aiohttp->datasets) (1.3.1)\n",
            "Requirement already satisfied: typing-extensions>=3.7.4.3 in /usr/local/lib/python3.10/dist-packages (from huggingface-hub<1.0,>=0.11.0->transformers==4.28.0) (4.7.1)\n",
            "Requirement already satisfied: urllib3<1.27,>=1.21.1 in /usr/local/lib/python3.10/dist-packages (from requests->transformers==4.28.0) (1.26.16)\n",
            "Requirement already satisfied: certifi>=2017.4.17 in /usr/local/lib/python3.10/dist-packages (from requests->transformers==4.28.0) (2023.5.7)\n",
            "Requirement already satisfied: idna<4,>=2.5 in /usr/local/lib/python3.10/dist-packages (from requests->transformers==4.28.0) (3.4)\n",
            "Requirement already satisfied: python-dateutil>=2.8.1 in /usr/local/lib/python3.10/dist-packages (from pandas->datasets) (2.8.2)\n",
            "Requirement already satisfied: pytz>=2020.1 in /usr/local/lib/python3.10/dist-packages (from pandas->datasets) (2022.7.1)\n",
            "Requirement already satisfied: six>=1.5 in /usr/local/lib/python3.10/dist-packages (from python-dateutil>=2.8.1->pandas->datasets) (1.16.0)\n"
          ]
        }
      ],
      "source": [
        "!pip install transformers==4.28.0 datasets evaluate"
      ]
    },
    {
      "cell_type": "code",
      "source": [
        "import torch\n",
        "from transformers import DistilBertForQuestionAnswering, DistilBertTokenizerFast, DistilBertConfig\n",
        "from transformers import AdamW, get_linear_schedule_with_warmup\n",
        "from transformers import default_data_collator\n",
        "from torch.utils.data import DataLoader\n",
        "from datasets import load_dataset"
      ],
      "metadata": {
        "id": "zjkcPHl2IX_6"
      },
      "execution_count": null,
      "outputs": []
    },
    {
      "cell_type": "code",
      "source": [
        "import random\n",
        "\n",
        "# Set the seed for reproducibility\n",
        "seed = 2\n",
        "random.seed(seed)\n",
        "\n",
        "# Assuming you have already imported the necessary libraries and loaded the dataset\n",
        "squad_v2_dataset = load_dataset(\"squad_v2\")\n",
        "\n",
        "# Get the total number of examples in the dataset\n",
        "num_examples = len(squad_v2_dataset[\"train\"])\n",
        "\n",
        "# Randomly select 1000 indices without replacement\n",
        "random_indices = random.sample(range(num_examples), 1000)\n",
        "\n",
        "# Select the examples corresponding to the random indices\n",
        "selected_examples = squad_v2_dataset[\"train\"].select(random_indices)\n",
        "\n",
        "# Now you can use the selected_examples as desired\n"
      ],
      "metadata": {
        "id": "cnXomT7OIZdC"
      },
      "execution_count": null,
      "outputs": []
    },
    {
      "cell_type": "code",
      "source": [
        "xselected_examples['context'][0]"
      ],
      "metadata": {
        "colab": {
          "base_uri": "https://localhost:8080/",
          "height": 107
        },
        "id": "r3NhIf1Hc9JF",
        "outputId": "a065f9a0-0f31-4238-d0ea-ff3b34e2ca2d"
      },
      "execution_count": null,
      "outputs": [
        {
          "output_type": "execute_result",
          "data": {
            "text/plain": [
              "\"The pricing of risk refers to the incremental compensation required by investors for taking on additional risk, which may be measured by interest rates or fees. Several scholars have argued that a lack of transparency about banks' risk exposures prevented markets from correctly pricing risk before the crisis, enabled the mortgage market to grow larger than it otherwise would have, and made the financial crisis far more disruptive than it would have been if risk levels had been disclosed in a straightforward, readily understandable format.\""
            ],
            "application/vnd.google.colaboratory.intrinsic+json": {
              "type": "string"
            }
          },
          "metadata": {},
          "execution_count": 47
        }
      ]
    },
    {
      "cell_type": "code",
      "source": [
        "selected_examples['question'][0]"
      ],
      "metadata": {
        "colab": {
          "base_uri": "https://localhost:8080/",
          "height": 35
        },
        "id": "tC4yAtvEdoAl",
        "outputId": "5ae71a6a-9edb-43b6-9065-9c1a52ca4140"
      },
      "execution_count": null,
      "outputs": [
        {
          "output_type": "execute_result",
          "data": {
            "text/plain": [
              "'What is a measurement of pricing of risk?'"
            ],
            "application/vnd.google.colaboratory.intrinsic+json": {
              "type": "string"
            }
          },
          "metadata": {},
          "execution_count": 48
        }
      ]
    },
    {
      "cell_type": "code",
      "source": [
        "tokenizer = DistilBertTokenizerFast.from_pretrained(\"distilbert-base-uncased\")\n",
        "config = DistilBertConfig.from_pretrained(\"distilbert-base-uncased\")\n",
        "model = DistilBertForQuestionAnswering.from_pretrained(\"distilbert-base-uncased\", config=config)"
      ],
      "metadata": {
        "colab": {
          "base_uri": "https://localhost:8080/"
        },
        "id": "Jw5fHVndIarg",
        "outputId": "c2b34013-9a8e-43c1-ff7c-1d593146a243"
      },
      "execution_count": null,
      "outputs": [
        {
          "output_type": "stream",
          "name": "stderr",
          "text": [
            "Some weights of the model checkpoint at distilbert-base-uncased were not used when initializing DistilBertForQuestionAnswering: ['vocab_layer_norm.weight', 'vocab_projector.bias', 'vocab_transform.weight', 'vocab_layer_norm.bias', 'vocab_projector.weight', 'vocab_transform.bias']\n",
            "- This IS expected if you are initializing DistilBertForQuestionAnswering from the checkpoint of a model trained on another task or with another architecture (e.g. initializing a BertForSequenceClassification model from a BertForPreTraining model).\n",
            "- This IS NOT expected if you are initializing DistilBertForQuestionAnswering from the checkpoint of a model that you expect to be exactly identical (initializing a BertForSequenceClassification model from a BertForSequenceClassification model).\n",
            "Some weights of DistilBertForQuestionAnswering were not initialized from the model checkpoint at distilbert-base-uncased and are newly initialized: ['qa_outputs.bias', 'qa_outputs.weight']\n",
            "You should probably TRAIN this model on a down-stream task to be able to use it for predictions and inference.\n"
          ]
        }
      ]
    },
    {
      "cell_type": "code",
      "source": [
        "def prepare_data(examples):\n",
        "    tokenized_examples = tokenizer(\n",
        "        examples[\"question\"],\n",
        "        examples[\"context\"],\n",
        "        truncation=\"only_second\",\n",
        "        max_length=512,  # You can adjust this value as mentioned in the previous answers\n",
        "        stride=128,\n",
        "        return_overflowing_tokens=True,\n",
        "        return_offsets_mapping=True,\n",
        "        padding=True,\n",
        "    )\n",
        "\n",
        "    # Find the maximum sequence length based on the tokenized examples\n",
        "    max_sequence_length = max(len(input_ids) for input_ids in tokenized_examples[\"input_ids\"])\n",
        "    print(\"Maximum sequence length:\", max_sequence_length)\n",
        "    sample_mapping = tokenized_examples.pop(\"overflow_to_sample_mapping\")\n",
        "    offset_mapping = tokenized_examples.pop(\"offset_mapping\")\n",
        "\n",
        "    tokenized_examples[\"start_positions\"] = []\n",
        "    tokenized_examples[\"end_positions\"] = []\n",
        "\n",
        "    for i, offsets in enumerate(offset_mapping):\n",
        "        input_ids = tokenized_examples[\"input_ids\"][i]\n",
        "        cls_index = input_ids.index(tokenizer.cls_token_id)\n",
        "\n",
        "        sequence_ids = tokenized_examples.sequence_ids(i)\n",
        "\n",
        "        sample_index = sample_mapping[i]\n",
        "        answers = examples[\"answers\"][sample_index]\n",
        "\n",
        "        if len(answers[\"answer_start\"]) == 0:\n",
        "            tokenized_examples[\"start_positions\"].append(cls_index)\n",
        "            tokenized_examples[\"end_positions\"].append(cls_index)\n",
        "        else:\n",
        "            start_char = answers[\"answer_start\"][0]\n",
        "            end_char = start_char + len(answers[\"text\"][0])\n",
        "\n",
        "            token_start_index = 0\n",
        "            while sequence_ids[token_start_index] != 1:\n",
        "                token_start_index += 1\n",
        "\n",
        "            token_end_index = len(input_ids) - 1\n",
        "            while sequence_ids[token_end_index] != 1:\n",
        "                token_end_index -= 1\n",
        "\n",
        "            if not (offsets[token_start_index][0] <= start_char and offsets[token_end_index][1] >= end_char):\n",
        "                tokenized_examples[\"start_positions\"].append(cls_index)\n",
        "                tokenized_examples[\"end_positions\"].append(cls_index)\n",
        "            else:\n",
        "                while token_start_index < len(offsets) and offsets[token_start_index][0] <= start_char:\n",
        "                    token_start_index += 1\n",
        "                tokenized_examples[\"start_positions\"].append(token_start_index - 1)\n",
        "\n",
        "                while offsets[token_end_index][1] >= end_char:\n",
        "                    token_end_index -= 1\n",
        "                tokenized_examples[\"end_positions\"].append(token_end_index + 1)\n",
        "\n",
        "    return tokenized_examples\n"
      ],
      "metadata": {
        "id": "nLZiYYSXMjt7"
      },
      "execution_count": null,
      "outputs": []
    },
    {
      "cell_type": "code",
      "source": [
        "squad_v2_encoded = selected_examples.map(prepare_data, batched=True)\n"
      ],
      "metadata": {
        "id": "qhuxgKhhMlcE"
      },
      "execution_count": null,
      "outputs": []
    },
    {
      "cell_type": "code",
      "source": [
        "def custom_data_collator(batch):\n",
        "    input_ids = torch.tensor([item[\"input_ids\"] for item in batch])\n",
        "    attention_mask = torch.tensor([item[\"attention_mask\"] for item in batch])\n",
        "    start_positions = torch.tensor([item[\"start_positions\"] for item in batch])\n",
        "    end_positions = torch.tensor([item[\"end_positions\"] for item in batch])\n",
        "\n",
        "    return {\n",
        "        \"input_ids\": input_ids,\n",
        "        \"attention_mask\": attention_mask,\n",
        "        \"start_positions\": start_positions,\n",
        "        \"end_positions\": end_positions,\n",
        "    }\n",
        "\n",
        "train_dataloader = DataLoader(squad_v2_encoded, batch_size=8, collate_fn=custom_data_collator)\n",
        "eval_dataloader = DataLoader(squad_v2_encoded, batch_size=8, collate_fn=custom_data_collator)"
      ],
      "metadata": {
        "id": "gHSshH7sOOMl"
      },
      "execution_count": null,
      "outputs": []
    },
    {
      "cell_type": "code",
      "source": [
        "# data_collator = default_data_collator\n",
        "# train_dataloader = DataLoader(squad_v2_encoded[\"train\"], batch_size=8, collate_fn=data_collator)\n",
        "# eval_dataloader = DataLoader(squad_v2_encoded[\"validation\"], batch_size=8, collate_fn=data_collator)"
      ],
      "metadata": {
        "id": "q6L3snXZNFhT"
      },
      "execution_count": null,
      "outputs": []
    },
    {
      "cell_type": "code",
      "source": [
        "optimizer = AdamW(model.parameters(), lr=3e-4)\n",
        "num_training_steps = len(train_dataloader) * 3  # Number of epochs\n",
        "lr_scheduler = get_linear_schedule_with_warmup(optimizer, num_warmup_steps=0, num_training_steps=num_training_steps)"
      ],
      "metadata": {
        "id": "IE7vjK4GNFc5"
      },
      "execution_count": null,
      "outputs": []
    },
    {
      "cell_type": "code",
      "source": [
        "import torch\n",
        "from torch.utils.data import DataLoader\n",
        "import random\n",
        "from datasets import load_dataset\n",
        "\n",
        "def answer_question(question, context, model, tokenizer, device):\n",
        "    inputs = tokenizer(question, context, return_tensors=\"pt\", padding=True, truncation=True)\n",
        "    inputs = {k: v.to(device) for k, v in inputs.items()}  # Move the input tensors to the same device as the model\n",
        "    outputs = model(**inputs)\n",
        "    start_position = torch.argmax(outputs.start_logits)\n",
        "    end_position = torch.argmax(outputs.end_logits)\n",
        "    answer = tokenizer.convert_tokens_to_string(tokenizer.convert_ids_to_tokens(inputs[\"input_ids\"][0][start_position:end_position + 1]))\n",
        "    return answer\n",
        "\n",
        "\n",
        "\n",
        "device = torch.device(\"cuda\" if torch.cuda.is_available() else \"cpu\")\n",
        "model.to(device)\n",
        "loss_values = []\n",
        "accuracy_values = []\n",
        "for epoch in range(6):\n",
        "    model.train()\n",
        "    print(f\"Epoch: {epoch + 1}\")\n",
        "    total_loss = 0.0\n",
        "    total_correct = 0\n",
        "    total_examples = 0\n",
        "\n",
        "    for step, batch in enumerate(train_dataloader):\n",
        "        batch = {k: v.to(device) for k, v in batch.items()}\n",
        "        outputs = model(**batch)\n",
        "        loss = outputs.loss\n",
        "        total_loss += loss.item()\n",
        "\n",
        "        start_positions = outputs.start_logits.argmax(dim=1)\n",
        "        end_positions = outputs.end_logits.argmax(dim=1)\n",
        "        correct_start = (start_positions == batch[\"start_positions\"])\n",
        "        correct_end = (end_positions == batch[\"end_positions\"])\n",
        "        total_correct += (correct_start & correct_end).sum().item()\n",
        "        total_examples += len(correct_start)\n",
        "\n",
        "        loss.backward()\n",
        "        optimizer.step()\n",
        "        lr_scheduler.step()\n",
        "        optimizer.zero_grad()\n",
        "\n",
        "        # Print the loss and accuracy at every nth step (e.g., every 10 steps)\n",
        "        if step % 10 == 0:\n",
        "            print(f\"Step: {step}, Loss: {loss.item()}, Accuracy: {total_correct / total_examples:.2%}\")\n",
        "\n",
        "    # Print the average loss and accuracy for the epoch\n",
        "\n",
        "    average_loss = total_loss / len(train_dataloader)\n",
        "    accuracy = total_correct / total_examples\n",
        "    loss_values.append(average_loss)\n",
        "    accuracy_values.append(accuracy)\n",
        "    print(f\"Epoch {epoch + 1} - Average Loss: {average_loss}, Accuracy: {accuracy:.2%}\")\n",
        "\n",
        "    # Evaluate the model after each epoch using the answer_question function\n",
        "    model.eval()\n",
        "    with torch.no_grad():\n",
        "        question = \"What is the capital of France?\"\n",
        "        context = \"France is a country in Europe. Its capital is Paris, which is known for its culture, history, and architecture.\"\n",
        "        answer = answer_question(question, context, model, tokenizer, device)\n",
        "        print(f\"Epoch {epoch + 1} - Question: {question}\")\n",
        "        print(f\"Epoch {epoch + 1} - Answer: {answer}\")\n",
        "\n",
        "print(\"Training finished!\")\n"
      ],
      "metadata": {
        "colab": {
          "base_uri": "https://localhost:8080/"
        },
        "id": "uggcxoCKNFK0",
        "outputId": "29af7b5a-396e-4972-a93a-86afab2b88e3"
      },
      "execution_count": null,
      "outputs": [
        {
          "output_type": "stream",
          "name": "stdout",
          "text": [
            "Epoch: 1\n",
            "Step: 0, Loss: 6.2408905029296875, Accuracy: 0.00%\n",
            "Step: 10, Loss: 3.885615348815918, Accuracy: 23.86%\n",
            "Step: 20, Loss: 3.712367534637451, Accuracy: 29.17%\n",
            "Step: 30, Loss: 3.660287618637085, Accuracy: 28.23%\n",
            "Step: 40, Loss: 3.924694538116455, Accuracy: 30.18%\n",
            "Step: 50, Loss: 3.563868999481201, Accuracy: 29.17%\n",
            "Step: 60, Loss: 3.9839134216308594, Accuracy: 28.48%\n",
            "Step: 70, Loss: 2.9807662963867188, Accuracy: 27.99%\n",
            "Step: 80, Loss: 3.172863721847534, Accuracy: 28.86%\n",
            "Step: 90, Loss: 2.571927547454834, Accuracy: 29.81%\n",
            "Step: 100, Loss: 4.367620468139648, Accuracy: 30.20%\n",
            "Step: 110, Loss: 4.429742336273193, Accuracy: 31.31%\n",
            "Step: 120, Loss: 3.371699571609497, Accuracy: 31.61%\n",
            "Epoch 1 - Average Loss: 3.3695121240615844, Accuracy: 31.60%\n",
            "Epoch 1 - Question: What is the capital of France?\n",
            "Epoch 1 - Answer: [CLS]\n",
            "Epoch: 2\n",
            "Step: 0, Loss: 2.6129891872406006, Accuracy: 37.50%\n",
            "Step: 10, Loss: 3.1769659519195557, Accuracy: 32.95%\n",
            "Step: 20, Loss: 1.7943074703216553, Accuracy: 33.93%\n",
            "Step: 30, Loss: 2.137455463409424, Accuracy: 31.05%\n",
            "Step: 40, Loss: 2.4621262550354004, Accuracy: 30.79%\n",
            "Step: 50, Loss: 3.3216042518615723, Accuracy: 31.37%\n",
            "Step: 60, Loss: 2.8055615425109863, Accuracy: 30.12%\n",
            "Step: 70, Loss: 1.982271671295166, Accuracy: 28.70%\n",
            "Step: 80, Loss: 1.8047292232513428, Accuracy: 28.40%\n",
            "Step: 90, Loss: 1.3991975784301758, Accuracy: 28.98%\n",
            "Step: 100, Loss: 3.485976457595825, Accuracy: 29.33%\n",
            "Step: 110, Loss: 4.015809535980225, Accuracy: 29.39%\n",
            "Step: 120, Loss: 2.6560635566711426, Accuracy: 29.03%\n",
            "Epoch 2 - Average Loss: 2.196681787490845, Accuracy: 29.30%\n",
            "Epoch 2 - Question: What is the capital of France?\n",
            "Epoch 2 - Answer: [CLS]\n",
            "Epoch: 3\n",
            "Step: 0, Loss: 1.3724652528762817, Accuracy: 62.50%\n",
            "Step: 10, Loss: 1.5522972345352173, Accuracy: 44.32%\n",
            "Step: 20, Loss: 0.3531450629234314, Accuracy: 55.95%\n",
            "Step: 30, Loss: 0.37583470344543457, Accuracy: 60.08%\n",
            "Step: 40, Loss: 0.4919482171535492, Accuracy: 61.89%\n",
            "Step: 50, Loss: 1.0671062469482422, Accuracy: 62.01%\n",
            "Step: 60, Loss: 0.7987766861915588, Accuracy: 62.50%\n",
            "Step: 70, Loss: 0.4875677525997162, Accuracy: 64.96%\n",
            "Step: 80, Loss: 0.5199319124221802, Accuracy: 64.97%\n",
            "Step: 90, Loss: 0.2694537043571472, Accuracy: 64.56%\n",
            "Step: 100, Loss: 1.116335153579712, Accuracy: 65.59%\n",
            "Step: 110, Loss: 1.0973169803619385, Accuracy: 66.89%\n",
            "Step: 120, Loss: 0.5981506705284119, Accuracy: 66.22%\n",
            "Epoch 3 - Average Loss: 0.751379121363163, Accuracy: 66.70%\n",
            "Epoch 3 - Question: What is the capital of France?\n",
            "Epoch 3 - Answer: paris\n",
            "Epoch: 4\n",
            "Step: 0, Loss: 0.38909250497817993, Accuracy: 75.00%\n",
            "Step: 10, Loss: 1.223365306854248, Accuracy: 76.14%\n",
            "Step: 20, Loss: 0.4090716242790222, Accuracy: 79.76%\n",
            "Step: 30, Loss: 0.5660470128059387, Accuracy: 84.27%\n",
            "Step: 40, Loss: 0.20458948612213135, Accuracy: 86.28%\n",
            "Step: 50, Loss: 0.12381467968225479, Accuracy: 87.75%\n",
            "Step: 60, Loss: 0.20096802711486816, Accuracy: 88.93%\n",
            "Step: 70, Loss: 0.17148295044898987, Accuracy: 89.79%\n",
            "Step: 80, Loss: 0.29676249623298645, Accuracy: 89.81%\n",
            "Step: 90, Loss: 0.2336980104446411, Accuracy: 90.38%\n",
            "Step: 100, Loss: 0.5491765737533569, Accuracy: 90.35%\n",
            "Step: 110, Loss: 0.9701529741287231, Accuracy: 89.41%\n",
            "Step: 120, Loss: 0.5158714652061462, Accuracy: 86.57%\n",
            "Epoch 4 - Average Loss: 0.32926976430416105, Accuracy: 86.30%\n",
            "Epoch 4 - Question: What is the capital of France?\n",
            "Epoch 4 - Answer: paris\n",
            "Epoch: 5\n",
            "Step: 0, Loss: 0.4594234824180603, Accuracy: 87.50%\n",
            "Step: 10, Loss: 1.200594186782837, Accuracy: 80.68%\n",
            "Step: 20, Loss: 0.46519869565963745, Accuracy: 84.52%\n",
            "Step: 30, Loss: 0.2490108609199524, Accuracy: 86.29%\n",
            "Step: 40, Loss: 0.18043580651283264, Accuracy: 86.89%\n",
            "Step: 50, Loss: 0.1518830955028534, Accuracy: 88.73%\n",
            "Step: 60, Loss: 0.24916383624076843, Accuracy: 89.14%\n",
            "Step: 70, Loss: 0.21926844120025635, Accuracy: 89.61%\n",
            "Step: 80, Loss: 0.3695063292980194, Accuracy: 90.12%\n",
            "Step: 90, Loss: 0.12045048922300339, Accuracy: 90.66%\n",
            "Step: 100, Loss: 0.5687679648399353, Accuracy: 90.59%\n",
            "Step: 110, Loss: 0.9759472012519836, Accuracy: 89.75%\n",
            "Step: 120, Loss: 0.815854549407959, Accuracy: 88.02%\n",
            "Epoch 5 - Average Loss: 0.32107060927152636, Accuracy: 87.50%\n",
            "Epoch 5 - Question: What is the capital of France?\n",
            "Epoch 5 - Answer: paris\n",
            "Epoch: 6\n",
            "Step: 0, Loss: 0.3259906768798828, Accuracy: 87.50%\n",
            "Step: 10, Loss: 1.2653357982635498, Accuracy: 80.68%\n",
            "Step: 20, Loss: 0.3285881578922272, Accuracy: 83.33%\n",
            "Step: 30, Loss: 0.4338817894458771, Accuracy: 85.48%\n",
            "Step: 40, Loss: 0.22322316467761993, Accuracy: 86.89%\n",
            "Step: 50, Loss: 0.16495342552661896, Accuracy: 87.99%\n",
            "Step: 60, Loss: 0.33623141050338745, Accuracy: 88.73%\n",
            "Step: 70, Loss: 0.18807829916477203, Accuracy: 89.61%\n",
            "Step: 80, Loss: 0.30402013659477234, Accuracy: 89.97%\n",
            "Step: 90, Loss: 0.16545718908309937, Accuracy: 90.66%\n",
            "Step: 100, Loss: 0.6024433374404907, Accuracy: 90.59%\n",
            "Step: 110, Loss: 0.8717647790908813, Accuracy: 90.09%\n",
            "Step: 120, Loss: 0.40280628204345703, Accuracy: 88.22%\n",
            "Epoch 6 - Average Loss: 0.31808825325965884, Accuracy: 88.00%\n",
            "Epoch 6 - Question: What is the capital of France?\n",
            "Epoch 6 - Answer: paris\n",
            "Training finished!\n"
          ]
        }
      ]
    },
    {
      "cell_type": "code",
      "source": [
        "loss_values"
      ],
      "metadata": {
        "colab": {
          "base_uri": "https://localhost:8080/"
        },
        "id": "7i7P3rzo46ge",
        "outputId": "f9b5d354-8c12-40ec-cd64-bc38f6a8850b"
      },
      "execution_count": null,
      "outputs": [
        {
          "output_type": "execute_result",
          "data": {
            "text/plain": [
              "[3.3695121240615844,\n",
              " 2.196681787490845,\n",
              " 0.751379121363163,\n",
              " 0.32926976430416105,\n",
              " 0.32107060927152636,\n",
              " 0.31808825325965884]"
            ]
          },
          "metadata": {},
          "execution_count": 57
        }
      ]
    },
    {
      "cell_type": "code",
      "source": [
        "import matplotlib.pyplot as plt\n",
        "\n",
        "plt.figure(figsize=(10, 5))\n",
        "plt.subplot(1, 2, 1)\n",
        "plt.plot(range(1, 7), loss_values, marker='o')\n",
        "plt.xlabel('Epoch')\n",
        "plt.ylabel('Average Loss')\n",
        "plt.title('Loss per Epoch')\n",
        "\n",
        "plt.subplot(1, 2, 2)\n",
        "plt.plot(range(1, 7), accuracy_values, marker='o')\n",
        "plt.xlabel('Epoch')\n",
        "plt.ylabel('Accuracy')\n",
        "plt.title('Accuracy per Epoch')\n",
        "\n",
        "plt.tight_layout()\n",
        "plt.show()"
      ],
      "metadata": {
        "colab": {
          "base_uri": "https://localhost:8080/",
          "height": 507
        },
        "id": "f3fWjY5p2tqU",
        "outputId": "f0dbdc76-f06c-4c47-d653-8a71085ff774"
      },
      "execution_count": null,
      "outputs": [
        {
          "output_type": "display_data",
          "data": {
            "text/plain": [
              "<Figure size 1000x500 with 2 Axes>"
            ],
            "image/png": "[encoded data removed]"
          },
          "metadata": {}
        }
      ]
    },
    {
      "cell_type": "code",
      "source": [
        "/content/model_weights.pth"
      ],
      "metadata": {
        "id": "z6KIeKzn8PcT"
      },
      "execution_count": null,
      "outputs": []
    },
    {
      "cell_type": "code",
      "source": [
        "torch.save(model.state_dict(), 'model_weights.pth')\n"
      ],
      "metadata": {
        "id": "yBkqYMku7teA"
      },
      "execution_count": null,
      "outputs": []
    },
    {
      "cell_type": "code",
      "source": [
        "# First, create the model instance and load the saved weights\n",
        "model = DistilBertForQuestionAnswering.from_pretrained(\"distilbert-base-uncased\", config=config)\n",
        "model.load_state_dict(torch.load('model_weights.pth'))\n",
        "\n",
        "# Then, move the model to the desired device (GPU or CPU)\n",
        "device = torch.device(\"cuda\" if torch.cuda.is_available() else \"cpu\")\n",
        "model.to(device)\n",
        "\n",
        "# Now, you can use the loaded model for inference or further training if needed\n"
      ],
      "metadata": {
        "colab": {
          "base_uri": "https://localhost:8080/"
        },
        "id": "4ynDDykf7vzO",
        "outputId": "1d8c2013-9b52-41db-f07b-76c53c38745e"
      },
      "execution_count": null,
      "outputs": [
        {
          "output_type": "stream",
          "name": "stderr",
          "text": [
            "Some weights of the model checkpoint at distilbert-base-uncased were not used when initializing DistilBertForQuestionAnswering: ['vocab_layer_norm.weight', 'vocab_projector.bias', 'vocab_transform.weight', 'vocab_layer_norm.bias', 'vocab_projector.weight', 'vocab_transform.bias']\n",
            "- This IS expected if you are initializing DistilBertForQuestionAnswering from the checkpoint of a model trained on another task or with another architecture (e.g. initializing a BertForSequenceClassification model from a BertForPreTraining model).\n",
            "- This IS NOT expected if you are initializing DistilBertForQuestionAnswering from the checkpoint of a model that you expect to be exactly identical (initializing a BertForSequenceClassification model from a BertForSequenceClassification model).\n",
            "Some weights of DistilBertForQuestionAnswering were not initialized from the model checkpoint at distilbert-base-uncased and are newly initialized: ['qa_outputs.bias', 'qa_outputs.weight']\n",
            "You should probably TRAIN this model on a down-stream task to be able to use it for predictions and inference.\n"
          ]
        },
        {
          "output_type": "execute_result",
          "data": {
            "text/plain": [
              "DistilBertForQuestionAnswering(\n",
              "  (distilbert): DistilBertModel(\n",
              "    (embeddings): Embeddings(\n",
              "      (word_embeddings): Embedding(30522, 768, padding_idx=0)\n",
              "      (position_embeddings): Embedding(512, 768)\n",
              "      (LayerNorm): LayerNorm((768,), eps=1e-12, elementwise_affine=True)\n",
              "      (dropout): Dropout(p=0.1, inplace=False)\n",
              "    )\n",
              "    (transformer): Transformer(\n",
              "      (layer): ModuleList(\n",
              "        (0-5): 6 x TransformerBlock(\n",
              "          (attention): MultiHeadSelfAttention(\n",
              "            (dropout): Dropout(p=0.1, inplace=False)\n",
              "            (q_lin): Linear(in_features=768, out_features=768, bias=True)\n",
              "            (k_lin): Linear(in_features=768, out_features=768, bias=True)\n",
              "            (v_lin): Linear(in_features=768, out_features=768, bias=True)\n",
              "            (out_lin): Linear(in_features=768, out_features=768, bias=True)\n",
              "          )\n",
              "          (sa_layer_norm): LayerNorm((768,), eps=1e-12, elementwise_affine=True)\n",
              "          (ffn): FFN(\n",
              "            (dropout): Dropout(p=0.1, inplace=False)\n",
              "            (lin1): Linear(in_features=768, out_features=3072, bias=True)\n",
              "            (lin2): Linear(in_features=3072, out_features=768, bias=True)\n",
              "            (activation): GELUActivation()\n",
              "          )\n",
              "          (output_layer_norm): LayerNorm((768,), eps=1e-12, elementwise_affine=True)\n",
              "        )\n",
              "      )\n",
              "    )\n",
              "  )\n",
              "  (qa_outputs): Linear(in_features=768, out_features=2, bias=True)\n",
              "  (dropout): Dropout(p=0.1, inplace=False)\n",
              ")"
            ]
          },
          "metadata": {},
          "execution_count": 60
        }
      ]
    },
    {
      "cell_type": "code",
      "source": [
        "from transformers import DistilBertTokenizerFast, DistilBertForQuestionAnswering\n",
        "\n",
        "# Load the tokenizer and model architecture\n",
        "tokenizer = DistilBertTokenizerFast.from_pretrained(\"distilbert-base-uncased\")\n",
        "config = DistilBertConfig.from_pretrained(\"distilbert-base-uncased\")\n",
        "model = DistilBertForQuestionAnswering(config)\n",
        "\n",
        "# Load the saved weights into the model\n",
        "model.load_state_dict(torch.load('model_weights.pth'))\n",
        "\n",
        "# Move the model to the desired device (GPU or CPU)\n",
        "device = torch.device(\"cuda\" if torch.cuda.is_available() else \"cpu\")\n",
        "model.to(device)\n"
      ],
      "metadata": {
        "colab": {
          "base_uri": "https://localhost:8080/"
        },
        "id": "s3JkQvyN89kn",
        "outputId": "8ac99563-07a7-416f-bdb7-4c4b135a3e7b"
      },
      "execution_count": null,
      "outputs": [
        {
          "output_type": "execute_result",
          "data": {
            "text/plain": [
              "DistilBertForQuestionAnswering(\n",
              "  (distilbert): DistilBertModel(\n",
              "    (embeddings): Embeddings(\n",
              "      (word_embeddings): Embedding(30522, 768, padding_idx=0)\n",
              "      (position_embeddings): Embedding(512, 768)\n",
              "      (LayerNorm): LayerNorm((768,), eps=1e-12, elementwise_affine=True)\n",
              "      (dropout): Dropout(p=0.1, inplace=False)\n",
              "    )\n",
              "    (transformer): Transformer(\n",
              "      (layer): ModuleList(\n",
              "        (0-5): 6 x TransformerBlock(\n",
              "          (attention): MultiHeadSelfAttention(\n",
              "            (dropout): Dropout(p=0.1, inplace=False)\n",
              "            (q_lin): Linear(in_features=768, out_features=768, bias=True)\n",
              "            (k_lin): Linear(in_features=768, out_features=768, bias=True)\n",
              "            (v_lin): Linear(in_features=768, out_features=768, bias=True)\n",
              "            (out_lin): Linear(in_features=768, out_features=768, bias=True)\n",
              "          )\n",
              "          (sa_layer_norm): LayerNorm((768,), eps=1e-12, elementwise_affine=True)\n",
              "          (ffn): FFN(\n",
              "            (dropout): Dropout(p=0.1, inplace=False)\n",
              "            (lin1): Linear(in_features=768, out_features=3072, bias=True)\n",
              "            (lin2): Linear(in_features=3072, out_features=768, bias=True)\n",
              "            (activation): GELUActivation()\n",
              "          )\n",
              "          (output_layer_norm): LayerNorm((768,), eps=1e-12, elementwise_affine=True)\n",
              "        )\n",
              "      )\n",
              "    )\n",
              "  )\n",
              "  (qa_outputs): Linear(in_features=768, out_features=2, bias=True)\n",
              "  (dropout): Dropout(p=0.1, inplace=False)\n",
              ")"
            ]
          },
          "metadata": {},
          "execution_count": 61
        }
      ]
    },
    {
      "cell_type": "code",
      "source": [
        "import torch\n",
        "\n",
        "def answer_question(question, context, model, tokenizer, device):\n",
        "    inputs = tokenizer(question, context, return_tensors=\"pt\", padding=True, truncation=True)\n",
        "    inputs = {k: v.to(device) for k, v in inputs.items()}  # Move the input tensors to the same device as the model\n",
        "    outputs = model(**inputs)\n",
        "    start_position = torch.argmax(outputs.start_logits)\n",
        "    end_position = torch.argmax(outputs.end_logits)\n",
        "    answer = tokenizer.convert_tokens_to_string(tokenizer.convert_ids_to_tokens(inputs[\"input_ids\"][0][start_position:end_position + 1]))\n",
        "    return answer\n"
      ],
      "metadata": {
        "id": "oJ0Tt2Db9CtR"
      },
      "execution_count": null,
      "outputs": []
    },
    {
      "cell_type": "code",
      "source": [
        "question = \"What is the capital of France?\"\n",
        "context = \"France is a country in Europe. Its capital is Paris, which is known for its culture, history, and architecture.\"\n",
        "\n",
        "answer = answer_question(question, context, model, tokenizer, device)\n",
        "\n",
        "print(\"Question:\", question)\n",
        "print(\"Answer:\", answer)\n"
      ],
      "metadata": {
        "colab": {
          "base_uri": "https://localhost:8080/"
        },
        "id": "-rPdS0gx9Erb",
        "outputId": "37942886-84a2-46ad-97a7-35fcecf59782"
      },
      "execution_count": null,
      "outputs": [
        {
          "output_type": "stream",
          "name": "stdout",
          "text": [
            "Question: What is the capital of France?\n",
            "Answer: paris\n"
          ]
        }
      ]
    },
    {
      "cell_type": "code",
      "source": [
        "question = \"What is the capital of Japan?\"\n",
        "context = \"Japan is an island nation in East Asia. The capital is Tokyo, which is a bustling metropolis known for its modern technology, rich culture, and historical landmarks.\"\n",
        "\n",
        "answer = answer_question(question, context, model, tokenizer, device)\n",
        "\n",
        "print(\"Question:\", question)\n",
        "print(\"Answer:\", answer)\n"
      ],
      "metadata": {
        "colab": {
          "base_uri": "https://localhost:8080/"
        },
        "id": "MFMFactx9L4O",
        "outputId": "e336ba89-b694-4099-c1d1-f872cc7f94bf"
      },
      "execution_count": null,
      "outputs": [
        {
          "output_type": "stream",
          "name": "stdout",
          "text": [
            "Question: What is the capital of Japan?\n",
            "Answer: tokyo\n"
          ]
        }
      ]
    },
    {
      "cell_type": "code",
      "source": [
        "question = \"Who is the 44th President of the United States?\"\n",
        "context = \"The 44th President of the United States is Barack Obama. He served as the President from January 20, 2009, to January 20, 2017.\"\n",
        "\n",
        "answer = answer_question(question, context, model, tokenizer, device)\n",
        "print(\"Question:\", question)\n",
        "print(\"Answer:\", answer)\n"
      ],
      "metadata": {
        "colab": {
          "base_uri": "https://localhost:8080/"
        },
        "id": "n6XmXK2v-SSb",
        "outputId": "0ae5d971-9514-4b1e-9e90-d877b2dbcf64"
      },
      "execution_count": null,
      "outputs": [
        {
          "output_type": "stream",
          "name": "stdout",
          "text": [
            "Question: Who is the 44th President of the United States?\n",
            "Answer: barack obama\n"
          ]
        }
      ]
    }
  ]
}